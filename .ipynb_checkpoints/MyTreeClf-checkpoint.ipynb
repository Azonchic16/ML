{
 "cells": [
  {
   "cell_type": "code",
   "execution_count": 2,
   "id": "6be41635",
   "metadata": {},
   "outputs": [],
   "source": [
    "import pandas as pd\n",
    "import numpy as np"
   ]
  },
  {
   "cell_type": "code",
   "execution_count": 61,
   "id": "02d87d2b",
   "metadata": {},
   "outputs": [],
   "source": [
    "class MyTreeClf():\n",
    "    \n",
    "    def __init__(self, max_depth=5, min_samples_split=2, max_leafs=20):\n",
    "        self.max_depth = max_depth\n",
    "        self.min_samples_split = min_samples_split\n",
    "        self.max_leafs = max_leafs\n",
    "\n",
    "        \n",
    "    def __str__(self):\n",
    "        attrs = vars(self)\n",
    "        return f'MyTreeClf class: ' + ', '.join(f'{key}={value}' for key, value in attrs.items())\n",
    "    \n",
    "    def get_best_split(self, X, y):\n",
    "        names = X.columns.values.tolist()\n",
    "        target = np.array(y)\n",
    "        N = len(target)\n",
    "        count_nonzero = np.count_nonzero(target)\n",
    "        d = pd.DataFrame(columns=['col_name', 'split_value', 'ig'])\n",
    "        S0 = -(1 / N) * (count_nonzero * np.nan_to_num(np.log2(count_nonzero / N),0) + (N - count_nonzero) * np.nan_to_num(np.log2((N - count_nonzero) / N),0))\n",
    "        X_numpy = X.to_numpy()\n",
    "        for i in range(len(X.columns)):\n",
    "            feature = pd.DataFrame({i: X_numpy[:,i], 'y': y})\n",
    "            unique = feature[i].unique()\n",
    "            unique = np.sort(unique)\n",
    "            feature_unique_mean = (unique[:-1] + unique[1:]) / 2\n",
    "            for k in range(len(feature_unique_mean)):\n",
    "                left_df = feature.loc[feature[i] <= feature_unique_mean[k]]\n",
    "                right_df = feature.loc[feature[i] > feature_unique_mean[k]]\n",
    "                left = left_df['y']\n",
    "                right = right_df['y']\n",
    "                N1 = len(left)\n",
    "                N2 = len(right)\n",
    "                c_n_l = int(np.count_nonzero(left))\n",
    "                c_n_r = int(np.count_nonzero(right))\n",
    "                print((N1 - c_n_l) / N1)\n",
    "                print(np.where(int(N1 - c_n_l) == 0, 0, ((N1 - c_n_l) / N1) * np.log2((N1 - c_n_l) / N1)), 'val')\n",
    "                S1 = np.where(c_n_l == 0, 0, (c_n_l / N1) * np.log2(c_n_l / N1)) + np.where(int(N1 - c_n_l) == 0, 0, ((N1 - c_n_l) / N1) * np.log2((N1 - c_n_l) / N1))\n",
    "                S2 = np.where(c_n_r == 0, 0, (c_n_r / N2) * np.log2(c_n_r / N2)) + np.where(int(N2 - c_n_r) == 0, 0, ((N2 - c_n_r) / N2) * np.log2((N2 - c_n_r) / N2))\n",
    "                ig = S0 - (N1 / N) * S1 - (N2 / N) * S2\n",
    "                d.loc[len(d.index)] = [names[i], feature_unique_mean[k], ig]\n",
    "        d = d.sort_values(by='ig', ascending=False)\n",
    "        col_name, split_value, ig = d.iloc[0,0], d.iloc[0, 1], d.iloc[0, 2]\n",
    "        return col_name, split_value, ig\n",
    "\n",
    "\n",
    "\n",
    "\n",
    "\n"
   ]
  },
  {
   "cell_type": "code",
   "execution_count": 63,
   "id": "5e466445",
   "metadata": {},
   "outputs": [
    {
     "name": "stdout",
     "output_type": "stream",
     "text": [
      "0.0\n",
      "0.0 val\n",
      "0.25\n",
      "-0.5 val\n",
      "0.375\n",
      "-0.5306390622295665 val\n",
      "0.4444444444444444\n",
      "-0.5199666673076944 val\n",
      "0.4\n",
      "-0.5287712379549449 val\n",
      "0.45454545454545453\n",
      "-0.5170470562499704 val\n",
      "0.4166666666666667\n",
      "-0.5262643357640807 val\n",
      "0.38461538461538464\n",
      "-0.5301967781745115 val\n"
     ]
    },
    {
     "name": "stderr",
     "output_type": "stream",
     "text": [
      "/tmp/ipykernel_6219/2191049206.py:36: RuntimeWarning: divide by zero encountered in log2\n",
      "  print(np.where(int(N1 - c_n_l) == 0, 0, ((N1 - c_n_l) / N1) * np.log2((N1 - c_n_l) / N1)), 'val')\n",
      "/tmp/ipykernel_6219/2191049206.py:36: RuntimeWarning: invalid value encountered in scalar multiply\n",
      "  print(np.where(int(N1 - c_n_l) == 0, 0, ((N1 - c_n_l) / N1) * np.log2((N1 - c_n_l) / N1)), 'val')\n",
      "/tmp/ipykernel_6219/2191049206.py:37: RuntimeWarning: divide by zero encountered in log2\n",
      "  S1 = np.where(c_n_l == 0, 0, (c_n_l / N1) * np.log2(c_n_l / N1)) + np.where(int(N1 - c_n_l) == 0, 0, ((N1 - c_n_l) / N1) * np.log2((N1 - c_n_l) / N1))\n",
      "/tmp/ipykernel_6219/2191049206.py:37: RuntimeWarning: invalid value encountered in scalar multiply\n",
      "  S1 = np.where(c_n_l == 0, 0, (c_n_l / N1) * np.log2(c_n_l / N1)) + np.where(int(N1 - c_n_l) == 0, 0, ((N1 - c_n_l) / N1) * np.log2((N1 - c_n_l) / N1))\n",
      "/tmp/ipykernel_6219/2191049206.py:38: RuntimeWarning: divide by zero encountered in log2\n",
      "  S2 = np.where(c_n_r == 0, 0, (c_n_r / N2) * np.log2(c_n_r / N2)) + np.where(int(N2 - c_n_r) == 0, 0, ((N2 - c_n_r) / N2) * np.log2((N2 - c_n_r) / N2))\n",
      "/tmp/ipykernel_6219/2191049206.py:38: RuntimeWarning: invalid value encountered in scalar multiply\n",
      "  S2 = np.where(c_n_r == 0, 0, (c_n_r / N2) * np.log2(c_n_r / N2)) + np.where(int(N2 - c_n_r) == 0, 0, ((N2 - c_n_r) / N2) * np.log2((N2 - c_n_r) / N2))\n",
      "/tmp/ipykernel_6219/2191049206.py:38: RuntimeWarning: divide by zero encountered in log2\n",
      "  S2 = np.where(c_n_r == 0, 0, (c_n_r / N2) * np.log2(c_n_r / N2)) + np.where(int(N2 - c_n_r) == 0, 0, ((N2 - c_n_r) / N2) * np.log2((N2 - c_n_r) / N2))\n",
      "/tmp/ipykernel_6219/2191049206.py:38: RuntimeWarning: invalid value encountered in scalar multiply\n",
      "  S2 = np.where(c_n_r == 0, 0, (c_n_r / N2) * np.log2(c_n_r / N2)) + np.where(int(N2 - c_n_r) == 0, 0, ((N2 - c_n_r) / N2) * np.log2((N2 - c_n_r) / N2))\n",
      "/tmp/ipykernel_6219/2191049206.py:38: RuntimeWarning: divide by zero encountered in log2\n",
      "  S2 = np.where(c_n_r == 0, 0, (c_n_r / N2) * np.log2(c_n_r / N2)) + np.where(int(N2 - c_n_r) == 0, 0, ((N2 - c_n_r) / N2) * np.log2((N2 - c_n_r) / N2))\n",
      "/tmp/ipykernel_6219/2191049206.py:38: RuntimeWarning: invalid value encountered in scalar multiply\n",
      "  S2 = np.where(c_n_r == 0, 0, (c_n_r / N2) * np.log2(c_n_r / N2)) + np.where(int(N2 - c_n_r) == 0, 0, ((N2 - c_n_r) / N2) * np.log2((N2 - c_n_r) / N2))\n"
     ]
    }
   ],
   "source": [
    "df = pd.DataFrame({'1': [1,2,5,2,5,5,235,87,54,433,345,2,34,5]})\n",
    "model = MyTreeClf()\n",
    "d = model.get_best_split(df, [1,0,1,1,0,0,1,0,1,1,1,1,0,1])"
   ]
  }
 ],
 "metadata": {
  "kernelspec": {
   "display_name": "Python 3 (ipykernel)",
   "language": "python",
   "name": "python3"
  },
  "language_info": {
   "codemirror_mode": {
    "name": "ipython",
    "version": 3
   },
   "file_extension": ".py",
   "mimetype": "text/x-python",
   "name": "python",
   "nbconvert_exporter": "python",
   "pygments_lexer": "ipython3",
   "version": "3.11.4"
  },
  "varInspector": {
   "cols": {
    "lenName": 16,
    "lenType": 16,
    "lenVar": 40
   },
   "kernels_config": {
    "python": {
     "delete_cmd_postfix": "",
     "delete_cmd_prefix": "del ",
     "library": "var_list.py",
     "varRefreshCmd": "print(var_dic_list())"
    },
    "r": {
     "delete_cmd_postfix": ") ",
     "delete_cmd_prefix": "rm(",
     "library": "var_list.r",
     "varRefreshCmd": "cat(var_dic_list()) "
    }
   },
   "types_to_exclude": [
    "module",
    "function",
    "builtin_function_or_method",
    "instance",
    "_Feature"
   ],
   "window_display": false
  }
 },
 "nbformat": 4,
 "nbformat_minor": 5
}
